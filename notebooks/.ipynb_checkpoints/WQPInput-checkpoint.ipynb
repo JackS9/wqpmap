{
 "cells": [
  {
   "cell_type": "markdown",
   "metadata": {},
   "source": [
    "## TODO:\n",
    " * Add (optional) parameters for\n",
    "   * Properties (Characteristics)\n",
    "   * Organization\n",
    "   * Activity ID\n",
    " * Get Units and other measurement details\n",
    " * Get Organization, Monitoring Location, and Activity information\n",
    " * Make into a full Connector with Input, Filters and an Output plugins\n",
    "   * A filter to look up (validatate) Characteristics in Domain Values table at WQX\n",
    "   * A date filter for the date range\n",
    "   * Create YAML template"
   ]
  },
  {
   "cell_type": "code",
   "execution_count": 1,
   "metadata": {},
   "outputs": [],
   "source": [
    "from datetimefilter.GeoEDF.connector.filter.DateTimeFilter import DateTimeFilter"
   ]
  },
  {
   "cell_type": "code",
   "execution_count": 2,
   "metadata": {},
   "outputs": [],
   "source": [
    "date_time_1 = DateTimeFilter(pattern=\"%m-%d-%Y\",start=\"1/1/1970\")\n",
    "date_time_1.filter()\n",
    "start_date = date_time_1.values[0]"
   ]
  },
  {
   "cell_type": "code",
   "execution_count": 3,
   "metadata": {},
   "outputs": [],
   "source": [
    "date_time_2 = DateTimeFilter(pattern=\"%m-%d-%Y\",start=\"8/7/2020\")\n",
    "date_time_2.filter()\n",
    "end_date = date_time_2.values[0]"
   ]
  },
  {
   "cell_type": "code",
   "execution_count": 4,
   "metadata": {},
   "outputs": [],
   "source": [
    "from wqpinput.GeoEDF.connector.input.WQPInput import WQPInput"
   ]
  },
  {
   "cell_type": "code",
   "execution_count": 5,
   "metadata": {},
   "outputs": [],
   "source": [
    "wqp = WQPInput(site_id=\"USGS-03206000\",start_date=start_date,end_date=end_date)\n",
    "wqp.set_output_path('.')\n",
    "wqp.get()"
   ]
  },
  {
   "cell_type": "code",
   "execution_count": 6,
   "metadata": {},
   "outputs": [],
   "source": [
    "import pandas as pd\n",
    "results = pd.read_csv (\"./USGS-03206000.csv\")"
   ]
  },
  {
   "cell_type": "code",
   "execution_count": 7,
   "metadata": {},
   "outputs": [
    {
     "data": {
      "text/plain": [
       "Index(['OrganizationIdentifier', 'OrganizationFormalName',\n",
       "       'ActivityIdentifier', 'ActivityTypeCode', 'ActivityMediaName',\n",
       "       'ActivityMediaSubdivisionName', 'ActivityStartDate',\n",
       "       'ActivityStartTime/Time', 'ActivityStartTime/TimeZoneCode',\n",
       "       'ActivityEndDate', 'ActivityEndTime/Time',\n",
       "       'ActivityEndTime/TimeZoneCode',\n",
       "       'ActivityDepthHeightMeasure/MeasureValue',\n",
       "       'ActivityDepthHeightMeasure/MeasureUnitCode',\n",
       "       'ActivityDepthAltitudeReferencePointText',\n",
       "       'ActivityTopDepthHeightMeasure/MeasureValue',\n",
       "       'ActivityTopDepthHeightMeasure/MeasureUnitCode',\n",
       "       'ActivityBottomDepthHeightMeasure/MeasureValue',\n",
       "       'ActivityBottomDepthHeightMeasure/MeasureUnitCode', 'ProjectIdentifier',\n",
       "       'ActivityConductingOrganizationText', 'MonitoringLocationIdentifier',\n",
       "       'ActivityCommentText', 'SampleAquifer', 'HydrologicCondition',\n",
       "       'HydrologicEvent', 'SampleCollectionMethod/MethodIdentifier',\n",
       "       'SampleCollectionMethod/MethodIdentifierContext',\n",
       "       'SampleCollectionMethod/MethodName', 'SampleCollectionEquipmentName',\n",
       "       'ResultDetectionConditionText', 'CharacteristicName',\n",
       "       'ResultSampleFractionText', 'ResultMeasureValue',\n",
       "       'ResultMeasure/MeasureUnitCode', 'MeasureQualifierCode',\n",
       "       'ResultStatusIdentifier', 'StatisticalBaseCode', 'ResultValueTypeName',\n",
       "       'ResultWeightBasisText', 'ResultTimeBasisText',\n",
       "       'ResultTemperatureBasisText', 'ResultParticleSizeBasisText',\n",
       "       'PrecisionValue', 'ResultCommentText', 'USGSPCode',\n",
       "       'ResultDepthHeightMeasure/MeasureValue',\n",
       "       'ResultDepthHeightMeasure/MeasureUnitCode',\n",
       "       'ResultDepthAltitudeReferencePointText', 'SubjectTaxonomicName',\n",
       "       'SampleTissueAnatomyName', 'ResultAnalyticalMethod/MethodIdentifier',\n",
       "       'ResultAnalyticalMethod/MethodIdentifierContext',\n",
       "       'ResultAnalyticalMethod/MethodName', 'MethodDescriptionText',\n",
       "       'LaboratoryName', 'AnalysisStartDate', 'ResultLaboratoryCommentText',\n",
       "       'DetectionQuantitationLimitTypeName',\n",
       "       'DetectionQuantitationLimitMeasure/MeasureValue',\n",
       "       'DetectionQuantitationLimitMeasure/MeasureUnitCode',\n",
       "       'PreparationStartDate', 'ProviderName'],\n",
       "      dtype='object')"
      ]
     },
     "execution_count": 7,
     "metadata": {},
     "output_type": "execute_result"
    }
   ],
   "source": [
    "results.columns"
   ]
  },
  {
   "cell_type": "code",
   "execution_count": 8,
   "metadata": {},
   "outputs": [
    {
     "data": {
      "text/html": [
       "<div>\n",
       "<style scoped>\n",
       "    .dataframe tbody tr th:only-of-type {\n",
       "        vertical-align: middle;\n",
       "    }\n",
       "\n",
       "    .dataframe tbody tr th {\n",
       "        vertical-align: top;\n",
       "    }\n",
       "\n",
       "    .dataframe thead th {\n",
       "        text-align: right;\n",
       "    }\n",
       "</style>\n",
       "<table border=\"1\" class=\"dataframe\">\n",
       "  <thead>\n",
       "    <tr style=\"text-align: right;\">\n",
       "      <th></th>\n",
       "      <th>CharacteristicName</th>\n",
       "      <th>ResultMeasureValue</th>\n",
       "      <th>ActivityStartDate</th>\n",
       "    </tr>\n",
       "  </thead>\n",
       "  <tbody>\n",
       "    <tr>\n",
       "      <td>0</td>\n",
       "      <td>Temperature, water</td>\n",
       "      <td>12.00</td>\n",
       "      <td>1972-11-07</td>\n",
       "    </tr>\n",
       "    <tr>\n",
       "      <td>1</td>\n",
       "      <td>Temperature, air, deg C</td>\n",
       "      <td>13.00</td>\n",
       "      <td>1972-11-07</td>\n",
       "    </tr>\n",
       "    <tr>\n",
       "      <td>2</td>\n",
       "      <td>Stream flow, instantaneous</td>\n",
       "      <td>71300.00</td>\n",
       "      <td>1972-11-07</td>\n",
       "    </tr>\n",
       "    <tr>\n",
       "      <td>3</td>\n",
       "      <td>Stream flow, instantaneous</td>\n",
       "      <td>2020.00</td>\n",
       "      <td>1972-11-07</td>\n",
       "    </tr>\n",
       "    <tr>\n",
       "      <td>4</td>\n",
       "      <td>Temperature, water</td>\n",
       "      <td>3.00</td>\n",
       "      <td>1971-01-25</td>\n",
       "    </tr>\n",
       "    <tr>\n",
       "      <td>...</td>\n",
       "      <td>...</td>\n",
       "      <td>...</td>\n",
       "      <td>...</td>\n",
       "    </tr>\n",
       "    <tr>\n",
       "      <td>57</td>\n",
       "      <td>Hardness, Ca, Mg</td>\n",
       "      <td>40.00</td>\n",
       "      <td>1971-06-03</td>\n",
       "    </tr>\n",
       "    <tr>\n",
       "      <td>58</td>\n",
       "      <td>Hardness, non-carbonate</td>\n",
       "      <td>1.00</td>\n",
       "      <td>1971-06-03</td>\n",
       "    </tr>\n",
       "    <tr>\n",
       "      <td>59</td>\n",
       "      <td>Calcium</td>\n",
       "      <td>8.00</td>\n",
       "      <td>1971-06-03</td>\n",
       "    </tr>\n",
       "    <tr>\n",
       "      <td>60</td>\n",
       "      <td>Chloride</td>\n",
       "      <td>15.00</td>\n",
       "      <td>1971-06-03</td>\n",
       "    </tr>\n",
       "    <tr>\n",
       "      <td>61</td>\n",
       "      <td>Height, gage</td>\n",
       "      <td>7.75</td>\n",
       "      <td>1971-06-03</td>\n",
       "    </tr>\n",
       "  </tbody>\n",
       "</table>\n",
       "<p>62 rows × 3 columns</p>\n",
       "</div>"
      ],
      "text/plain": [
       "            CharacteristicName  ResultMeasureValue ActivityStartDate\n",
       "0           Temperature, water               12.00        1972-11-07\n",
       "1      Temperature, air, deg C               13.00        1972-11-07\n",
       "2   Stream flow, instantaneous            71300.00        1972-11-07\n",
       "3   Stream flow, instantaneous             2020.00        1972-11-07\n",
       "4           Temperature, water                3.00        1971-01-25\n",
       "..                         ...                 ...               ...\n",
       "57            Hardness, Ca, Mg               40.00        1971-06-03\n",
       "58     Hardness, non-carbonate                1.00        1971-06-03\n",
       "59                     Calcium                8.00        1971-06-03\n",
       "60                    Chloride               15.00        1971-06-03\n",
       "61                Height, gage                7.75        1971-06-03\n",
       "\n",
       "[62 rows x 3 columns]"
      ]
     },
     "execution_count": 8,
     "metadata": {},
     "output_type": "execute_result"
    }
   ],
   "source": [
    "results[['CharacteristicName','ResultMeasureValue','ActivityStartDate']]"
   ]
  },
  {
   "cell_type": "code",
   "execution_count": null,
   "metadata": {},
   "outputs": [],
   "source": []
  }
 ],
 "metadata": {
  "kernelspec": {
   "display_name": "Python 3",
   "language": "python",
   "name": "python3"
  },
  "language_info": {
   "codemirror_mode": {
    "name": "ipython",
    "version": 3
   },
   "file_extension": ".py",
   "mimetype": "text/x-python",
   "name": "python",
   "nbconvert_exporter": "python",
   "pygments_lexer": "ipython3",
   "version": "3.7.3"
  }
 },
 "nbformat": 4,
 "nbformat_minor": 2
}
